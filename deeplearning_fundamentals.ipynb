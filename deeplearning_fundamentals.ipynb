{
  "nbformat": 4,
  "nbformat_minor": 0,
  "metadata": {
    "colab": {
      "provenance": [],
      "authorship_tag": "ABX9TyOaB9DLwyB1fJTFV0JLgkxN",
      "include_colab_link": true
    },
    "kernelspec": {
      "name": "python3",
      "display_name": "Python 3"
    },
    "language_info": {
      "name": "python"
    }
  },
  "cells": [
    {
      "cell_type": "markdown",
      "metadata": {
        "id": "view-in-github",
        "colab_type": "text"
      },
      "source": [
        "<a href=\"https://colab.research.google.com/github/neethj/deep-learning-fundamentals/blob/main/deeplearning_fundamentals.ipynb\" target=\"_parent\"><img src=\"https://colab.research.google.com/assets/colab-badge.svg\" alt=\"Open In Colab\"/></a>"
      ]
    },
    {
      "cell_type": "markdown",
      "source": [
        "# learning deep learning with tensor flow"
      ],
      "metadata": {
        "id": "R7G9LDx8fYjv"
      }
    },
    {
      "cell_type": "markdown",
      "source": [
        "##fundamentals"
      ],
      "metadata": {
        "id": "6KpQq_D78E4d"
      }
    },
    {
      "cell_type": "code",
      "source": [
        "import tensorflow as tf\n",
        "print(tf.__version__)"
      ],
      "metadata": {
        "colab": {
          "base_uri": "https://localhost:8080/"
        },
        "id": "_d7ypRvxfd70",
        "outputId": "86c3ea5f-08ae-46d2-9672-beefd805b3a0"
      },
      "execution_count": null,
      "outputs": [
        {
          "output_type": "stream",
          "name": "stdout",
          "text": [
            "2.13.0\n"
          ]
        }
      ]
    },
    {
      "cell_type": "code",
      "source": [
        "# create tensors with tf.constant()\n",
        "scalar = tf.constant(7)\n",
        "scalar"
      ],
      "metadata": {
        "colab": {
          "base_uri": "https://localhost:8080/"
        },
        "id": "OsJpsZ5jZMsk",
        "outputId": "23ded78b-09ad-4e27-8dae-620eab5f0bd3"
      },
      "execution_count": null,
      "outputs": [
        {
          "output_type": "execute_result",
          "data": {
            "text/plain": [
              "<tf.Tensor: shape=(), dtype=int32, numpy=7>"
            ]
          },
          "metadata": {},
          "execution_count": 3
        }
      ]
    },
    {
      "cell_type": "code",
      "source": [
        "#check number of dimensions of a tensor\n",
        "scalar.ndim"
      ],
      "metadata": {
        "colab": {
          "base_uri": "https://localhost:8080/"
        },
        "id": "6yF3DaCUa0Ys",
        "outputId": "1e19834d-676a-49ad-968f-6c419e4268ac"
      },
      "execution_count": null,
      "outputs": [
        {
          "output_type": "execute_result",
          "data": {
            "text/plain": [
              "0"
            ]
          },
          "metadata": {},
          "execution_count": 4
        }
      ]
    },
    {
      "cell_type": "code",
      "source": [
        "# create vector\n",
        "\n",
        "vector = tf.constant([10,10])\n",
        "vector"
      ],
      "metadata": {
        "colab": {
          "base_uri": "https://localhost:8080/"
        },
        "id": "2HfcMKE4a7pi",
        "outputId": "2c730c39-dfec-499e-9cb9-ee5c1cb56144"
      },
      "execution_count": null,
      "outputs": [
        {
          "output_type": "execute_result",
          "data": {
            "text/plain": [
              "<tf.Tensor: shape=(2,), dtype=int32, numpy=array([10, 10], dtype=int32)>"
            ]
          },
          "metadata": {},
          "execution_count": 3
        }
      ]
    },
    {
      "cell_type": "code",
      "source": [
        "# dimension of vector\n",
        "\n",
        "vector.ndim"
      ],
      "metadata": {
        "colab": {
          "base_uri": "https://localhost:8080/"
        },
        "id": "B_3WJvrRyQRD",
        "outputId": "9397289d-e33e-4693-9bb0-bfccab94c7d6"
      },
      "execution_count": null,
      "outputs": [
        {
          "output_type": "execute_result",
          "data": {
            "text/plain": [
              "1"
            ]
          },
          "metadata": {},
          "execution_count": 4
        }
      ]
    },
    {
      "cell_type": "code",
      "source": [
        "#create a matrix\n",
        "\n",
        "matrix = tf.constant([[1,1],\n",
        "                     [6,9]])\n",
        "\n",
        "matrix"
      ],
      "metadata": {
        "colab": {
          "base_uri": "https://localhost:8080/"
        },
        "id": "4LJ-oL7DyZ3P",
        "outputId": "c5c14d51-6b04-46e6-f321-13305391a7cb"
      },
      "execution_count": null,
      "outputs": [
        {
          "output_type": "execute_result",
          "data": {
            "text/plain": [
              "<tf.Tensor: shape=(2, 2), dtype=int32, numpy=\n",
              "array([[1, 1],\n",
              "       [6, 9]], dtype=int32)>"
            ]
          },
          "metadata": {},
          "execution_count": 8
        }
      ]
    },
    {
      "cell_type": "code",
      "source": [
        "matrix.ndim"
      ],
      "metadata": {
        "colab": {
          "base_uri": "https://localhost:8080/"
        },
        "id": "yvy-9U_uzdHG",
        "outputId": "fab72df0-f32c-4fa7-e5d2-0373e7b03069"
      },
      "execution_count": null,
      "outputs": [
        {
          "output_type": "execute_result",
          "data": {
            "text/plain": [
              "2"
            ]
          },
          "metadata": {},
          "execution_count": 9
        }
      ]
    },
    {
      "cell_type": "code",
      "source": [
        "#lets try to use another parameter of tf.constant : dtype\n",
        "\n",
        "another_matrix = tf.constant([[5., 6.],\n",
        "                              [1.,6.],\n",
        "                              [9.,9]],dtype=tf.float16)\n",
        "\n",
        "another_matrix"
      ],
      "metadata": {
        "colab": {
          "base_uri": "https://localhost:8080/"
        },
        "id": "CMNV1VuUz3O5",
        "outputId": "5d56167e-584c-4ec5-ecb5-f766880ae929"
      },
      "execution_count": null,
      "outputs": [
        {
          "output_type": "execute_result",
          "data": {
            "text/plain": [
              "<tf.Tensor: shape=(3, 2), dtype=float16, numpy=\n",
              "array([[5., 6.],\n",
              "       [1., 6.],\n",
              "       [9., 9.]], dtype=float16)>"
            ]
          },
          "metadata": {},
          "execution_count": 13
        }
      ]
    },
    {
      "cell_type": "code",
      "source": [
        "another_matrix.ndim"
      ],
      "metadata": {
        "colab": {
          "base_uri": "https://localhost:8080/"
        },
        "id": "WRcpJdpb23Ds",
        "outputId": "95e7b9f6-7a18-4a0f-acba-5003afbfc7d4"
      },
      "execution_count": null,
      "outputs": [
        {
          "output_type": "execute_result",
          "data": {
            "text/plain": [
              "2"
            ]
          },
          "metadata": {},
          "execution_count": 14
        }
      ]
    },
    {
      "cell_type": "code",
      "source": [
        "# lets make a 3 dimensional tensor\n",
        "\n",
        "matrix_1 = tf.constant([[[1,2,3],\n",
        "                         [4,5,6]]])\n",
        "matrix_1"
      ],
      "metadata": {
        "colab": {
          "base_uri": "https://localhost:8080/"
        },
        "id": "p-SJDJpu2IkC",
        "outputId": "4f72790a-64f2-489c-cf12-6d7478d99334"
      },
      "execution_count": null,
      "outputs": [
        {
          "output_type": "execute_result",
          "data": {
            "text/plain": [
              "<tf.Tensor: shape=(1, 2, 3), dtype=int32, numpy=\n",
              "array([[[1, 2, 3],\n",
              "        [4, 5, 6]]], dtype=int32)>"
            ]
          },
          "metadata": {},
          "execution_count": 17
        }
      ]
    },
    {
      "cell_type": "code",
      "source": [
        "matrix_1.ndim"
      ],
      "metadata": {
        "colab": {
          "base_uri": "https://localhost:8080/"
        },
        "id": "2Zsu-3dV3BRZ",
        "outputId": "2649e0b4-819f-4a22-c967-6d619609a892"
      },
      "execution_count": null,
      "outputs": [
        {
          "output_type": "execute_result",
          "data": {
            "text/plain": [
              "3"
            ]
          },
          "metadata": {},
          "execution_count": 16
        }
      ]
    },
    {
      "cell_type": "code",
      "source": [
        "matrix_2 = tf.constant([[[1,2,3],\n",
        "                         [3,4,5]],\n",
        "                         [[7,8,9],\n",
        "                          [10,11,12]],\n",
        "                        [[13,14,15],\n",
        "                         [16,17,18]]])\n",
        "matrix_2"
      ],
      "metadata": {
        "colab": {
          "base_uri": "https://localhost:8080/"
        },
        "id": "bjYAsZpi3eNU",
        "outputId": "e507f440-efb5-437d-e065-dd31b5395092"
      },
      "execution_count": null,
      "outputs": [
        {
          "output_type": "execute_result",
          "data": {
            "text/plain": [
              "<tf.Tensor: shape=(3, 2, 3), dtype=int32, numpy=\n",
              "array([[[ 1,  2,  3],\n",
              "        [ 3,  4,  5]],\n",
              "\n",
              "       [[ 7,  8,  9],\n",
              "        [10, 11, 12]],\n",
              "\n",
              "       [[13, 14, 15],\n",
              "        [16, 17, 18]]], dtype=int32)>"
            ]
          },
          "metadata": {},
          "execution_count": 18
        }
      ]
    },
    {
      "cell_type": "code",
      "source": [
        "matrix_2.ndim"
      ],
      "metadata": {
        "colab": {
          "base_uri": "https://localhost:8080/"
        },
        "id": "mcHfyXNe4dCQ",
        "outputId": "e2182a0c-a4bb-481c-9965-5ad400343cf5"
      },
      "execution_count": null,
      "outputs": [
        {
          "output_type": "execute_result",
          "data": {
            "text/plain": [
              "3"
            ]
          },
          "metadata": {},
          "execution_count": 19
        }
      ]
    },
    {
      "cell_type": "markdown",
      "source": [
        "##creating tensors with tf.Variable\n"
      ],
      "metadata": {
        "id": "dpcz3GwD5cho"
      }
    },
    {
      "cell_type": "code",
      "source": [
        "changeable_tensor = tf.Variable([10,1])\n",
        "unchangeable_tensor = tf.constant([10,1])\n",
        "changeable_tensor, unchangeable_tensor"
      ],
      "metadata": {
        "colab": {
          "base_uri": "https://localhost:8080/"
        },
        "id": "KsbzTh065TBL",
        "outputId": "1ca69e54-c188-4565-e7fb-496c97b39569"
      },
      "execution_count": null,
      "outputs": [
        {
          "output_type": "execute_result",
          "data": {
            "text/plain": [
              "(<tf.Variable 'Variable:0' shape=(2,) dtype=int32, numpy=array([10,  1], dtype=int32)>,\n",
              " <tf.Tensor: shape=(2,), dtype=int32, numpy=array([10,  1], dtype=int32)>)"
            ]
          },
          "metadata": {},
          "execution_count": 5
        }
      ]
    },
    {
      "cell_type": "code",
      "source": [
        "# change the elements in the changeable tensor using assign()\n",
        "\n",
        "changeable_tensor[0].assign(1)\n"
      ],
      "metadata": {
        "colab": {
          "base_uri": "https://localhost:8080/"
        },
        "id": "lJdYJa7u6lcJ",
        "outputId": "d307ca5e-7386-4951-f94c-cad0cd3df651"
      },
      "execution_count": null,
      "outputs": [
        {
          "output_type": "execute_result",
          "data": {
            "text/plain": [
              "<tf.Variable 'UnreadVariable' shape=(2,) dtype=int32, numpy=array([1, 1], dtype=int32)>"
            ]
          },
          "metadata": {},
          "execution_count": 6
        }
      ]
    },
    {
      "cell_type": "markdown",
      "source": [
        "tensors created with tf.variable can be changed and tensors created with tf.constant cannot be changed\n"
      ],
      "metadata": {
        "id": "DzwFFOeH7u38"
      }
    },
    {
      "cell_type": "code",
      "source": [],
      "metadata": {
        "id": "G1gZOd2l72X6"
      },
      "execution_count": null,
      "outputs": []
    },
    {
      "cell_type": "markdown",
      "source": [
        "##Creating random tensors"
      ],
      "metadata": {
        "id": "KrMfwoB18TBw"
      }
    },
    {
      "cell_type": "code",
      "source": [
        "random_1 = tf.random.Generator.from_seed(12)\n",
        "random_1 = random_1.normal(shape =(3,2))\n",
        "random_2 = tf.random.Generator.from_seed(12)\n",
        "random_2 = random_2.normal(shape = (3,2))"
      ],
      "metadata": {
        "id": "9hbzYq288VZT"
      },
      "execution_count": null,
      "outputs": []
    },
    {
      "cell_type": "code",
      "source": [
        "# are these two random tensors equal??\n",
        "\n",
        "random_1, random_2, random_1 ==random_2"
      ],
      "metadata": {
        "colab": {
          "base_uri": "https://localhost:8080/"
        },
        "id": "NP26Z7FhiKBi",
        "outputId": "04cdb337-ca78-4a2c-d8ce-4efd4ceb8a51"
      },
      "execution_count": null,
      "outputs": [
        {
          "output_type": "execute_result",
          "data": {
            "text/plain": [
              "(<tf.Tensor: shape=(3, 2), dtype=float32, numpy=\n",
              " array([[-1.0130816 ,  0.28291714],\n",
              "        [ 1.2132233 ,  0.46988967],\n",
              "        [ 0.37944323, -0.6664026 ]], dtype=float32)>,\n",
              " <tf.Tensor: shape=(3, 2), dtype=float32, numpy=\n",
              " array([[-1.0130816 ,  0.28291714],\n",
              "        [ 1.2132233 ,  0.46988967],\n",
              "        [ 0.37944323, -0.6664026 ]], dtype=float32)>,\n",
              " <tf.Tensor: shape=(3, 2), dtype=bool, numpy=\n",
              " array([[ True,  True],\n",
              "        [ True,  True],\n",
              "        [ True,  True]])>)"
            ]
          },
          "metadata": {},
          "execution_count": 13
        }
      ]
    },
    {
      "cell_type": "code",
      "source": [
        "random_3 = tf.random.Generator.from_seed(12)\n",
        "random_3 = random_3.normal(shape =(3,3))\n",
        "random_3"
      ],
      "metadata": {
        "colab": {
          "base_uri": "https://localhost:8080/"
        },
        "id": "XetYyPy7PgRE",
        "outputId": "af738dde-c436-4c5b-cba1-186b3e023152"
      },
      "execution_count": null,
      "outputs": [
        {
          "output_type": "execute_result",
          "data": {
            "text/plain": [
              "<tf.Tensor: shape=(3, 3), dtype=float32, numpy=\n",
              "array([[-1.0130816 ,  0.28291714,  1.2132233 ],\n",
              "       [ 0.46988967,  0.37944323, -0.6664026 ],\n",
              "       [ 0.6054596 ,  0.19181173,  0.8045827 ]], dtype=float32)>"
            ]
          },
          "metadata": {},
          "execution_count": 13
        }
      ]
    },
    {
      "cell_type": "markdown",
      "source": [
        "### shuffle the order of elements in tensor"
      ],
      "metadata": {
        "id": "gnKlj402lhE6"
      }
    },
    {
      "cell_type": "code",
      "source": [
        "#when u wanna shuffle ur data so the order of the thing dont affect learning\n",
        "\n",
        "not_shuffled = tf.constant([[10,7],\n",
        "                           [2,3],\n",
        "                           [6,7]])\n",
        "not_shuffled.ndim"
      ],
      "metadata": {
        "colab": {
          "base_uri": "https://localhost:8080/"
        },
        "id": "yxvHxFF2llh1",
        "outputId": "7e817e9d-2514-4b82-def5-9ac7a382f69c"
      },
      "execution_count": null,
      "outputs": [
        {
          "output_type": "execute_result",
          "data": {
            "text/plain": [
              "2"
            ]
          },
          "metadata": {},
          "execution_count": 2
        }
      ]
    },
    {
      "cell_type": "code",
      "source": [
        "not_shuffled"
      ],
      "metadata": {
        "colab": {
          "base_uri": "https://localhost:8080/"
        },
        "id": "eYCFzNX3ribC",
        "outputId": "c2503de3-caae-41b3-d3b8-31cdf591bc70"
      },
      "execution_count": null,
      "outputs": [
        {
          "output_type": "execute_result",
          "data": {
            "text/plain": [
              "<tf.Tensor: shape=(3, 2), dtype=int32, numpy=\n",
              "array([[10,  7],\n",
              "       [ 2,  3],\n",
              "       [ 6,  7]], dtype=int32)>"
            ]
          },
          "metadata": {},
          "execution_count": 3
        }
      ]
    },
    {
      "cell_type": "code",
      "source": [
        "#shuffle the non shuffled data\n",
        "\n",
        "tf.random.shuffle(not_shuffled)"
      ],
      "metadata": {
        "colab": {
          "base_uri": "https://localhost:8080/"
        },
        "id": "PbNCtky3w54s",
        "outputId": "2dd5cd7b-eec9-4cdf-fd50-80dc94a19dab"
      },
      "execution_count": null,
      "outputs": [
        {
          "output_type": "execute_result",
          "data": {
            "text/plain": [
              "<tf.Tensor: shape=(3, 2), dtype=int32, numpy=\n",
              "array([[10,  7],\n",
              "       [ 2,  3],\n",
              "       [ 6,  7]], dtype=int32)>"
            ]
          },
          "metadata": {},
          "execution_count": 7
        }
      ]
    },
    {
      "cell_type": "code",
      "source": [
        "not_shuffled_1 = tf.constant([[1,2],\n",
        "                              [3,4],\n",
        "                              [5,6]])"
      ],
      "metadata": {
        "id": "WJJUoy2nzmV3"
      },
      "execution_count": null,
      "outputs": []
    },
    {
      "cell_type": "code",
      "source": [
        "tf.random.set_seed(42) # when u set the seed, the values in the matrix dont change so it will stick to the pattern\n",
        "\n",
        "tf.random.shuffle(not_shuffled_1)"
      ],
      "metadata": {
        "colab": {
          "base_uri": "https://localhost:8080/"
        },
        "id": "ztXvytA0zoRm",
        "outputId": "75009627-97ce-4f3f-8264-f1090a60f1b5"
      },
      "execution_count": null,
      "outputs": [
        {
          "output_type": "execute_result",
          "data": {
            "text/plain": [
              "<tf.Tensor: shape=(3, 2), dtype=int32, numpy=\n",
              "array([[3, 4],\n",
              "       [5, 6],\n",
              "       [1, 2]], dtype=int32)>"
            ]
          },
          "metadata": {},
          "execution_count": 19
        }
      ]
    },
    {
      "cell_type": "code",
      "source": [
        "tf.random.shuffle(not_shuffled_1,seed =42)"
      ],
      "metadata": {
        "colab": {
          "base_uri": "https://localhost:8080/"
        },
        "id": "lBIL7JnrNpEN",
        "outputId": "ac0c023c-5f28-4c2c-f314-7dbe1d9ba3e0"
      },
      "execution_count": null,
      "outputs": [
        {
          "output_type": "execute_result",
          "data": {
            "text/plain": [
              "<tf.Tensor: shape=(3, 2), dtype=int32, numpy=\n",
              "array([[3, 4],\n",
              "       [5, 6],\n",
              "       [1, 2]], dtype=int32)>"
            ]
          },
          "metadata": {},
          "execution_count": 13
        }
      ]
    },
    {
      "cell_type": "markdown",
      "source": [
        "so if the operation level seed is not working , where as the global level seed works !"
      ],
      "metadata": {
        "id": "XVUO2j2H2sEC"
      }
    },
    {
      "cell_type": "markdown",
      "source": [
        "The main intention behind shuffling the elements is that if the elements are not shuffled, then the neural networks learns only in that specific order. if elements are shuffled then it can learn in all orders and then can differentiate more."
      ],
      "metadata": {
        "id": "0wRHAebz3RdA"
      }
    },
    {
      "cell_type": "markdown",
      "source": [
        "we use seeds to get reproducible randomness\n"
      ],
      "metadata": {
        "id": "dgYW9Vv-5Gvz"
      }
    },
    {
      "cell_type": "markdown",
      "source": [
        "## Other ways to make tensors"
      ],
      "metadata": {
        "id": "n0IY1rYl5WHr"
      }
    },
    {
      "cell_type": "code",
      "source": [
        "# create tensor of all ones\n",
        "\n",
        "tf.ones([10,10])"
      ],
      "metadata": {
        "colab": {
          "base_uri": "https://localhost:8080/"
        },
        "id": "wZpLf2Mf5s9F",
        "outputId": "f35a15b4-a22f-4e54-f9cc-fa6ad545ee35"
      },
      "execution_count": null,
      "outputs": [
        {
          "output_type": "execute_result",
          "data": {
            "text/plain": [
              "<tf.Tensor: shape=(10, 10), dtype=float32, numpy=\n",
              "array([[1., 1., 1., 1., 1., 1., 1., 1., 1., 1.],\n",
              "       [1., 1., 1., 1., 1., 1., 1., 1., 1., 1.],\n",
              "       [1., 1., 1., 1., 1., 1., 1., 1., 1., 1.],\n",
              "       [1., 1., 1., 1., 1., 1., 1., 1., 1., 1.],\n",
              "       [1., 1., 1., 1., 1., 1., 1., 1., 1., 1.],\n",
              "       [1., 1., 1., 1., 1., 1., 1., 1., 1., 1.],\n",
              "       [1., 1., 1., 1., 1., 1., 1., 1., 1., 1.],\n",
              "       [1., 1., 1., 1., 1., 1., 1., 1., 1., 1.],\n",
              "       [1., 1., 1., 1., 1., 1., 1., 1., 1., 1.],\n",
              "       [1., 1., 1., 1., 1., 1., 1., 1., 1., 1.]], dtype=float32)>"
            ]
          },
          "metadata": {},
          "execution_count": 14
        }
      ]
    },
    {
      "cell_type": "code",
      "source": [
        "tf.zeros([5,5])"
      ],
      "metadata": {
        "colab": {
          "base_uri": "https://localhost:8080/"
        },
        "id": "JsQJGyn557BG",
        "outputId": "37be63fb-ae6d-493c-e2fd-6033cfdc44da"
      },
      "execution_count": null,
      "outputs": [
        {
          "output_type": "execute_result",
          "data": {
            "text/plain": [
              "<tf.Tensor: shape=(5, 5), dtype=float32, numpy=\n",
              "array([[0., 0., 0., 0., 0.],\n",
              "       [0., 0., 0., 0., 0.],\n",
              "       [0., 0., 0., 0., 0.],\n",
              "       [0., 0., 0., 0., 0.],\n",
              "       [0., 0., 0., 0., 0.]], dtype=float32)>"
            ]
          },
          "metadata": {},
          "execution_count": 16
        }
      ]
    },
    {
      "cell_type": "markdown",
      "source": [
        "### turn numpy arrays into tensors\n",
        "\n",
        "diff between numpy array and tensorflow tensors is that tensors can run much faster on gpu"
      ],
      "metadata": {
        "id": "xB7pyodl6GUK"
      }
    },
    {
      "cell_type": "code",
      "source": [
        "import numpy as np\n",
        "numpy_A = np.arange(1,25)\n",
        "numpy_A\n",
        "\n"
      ],
      "metadata": {
        "colab": {
          "base_uri": "https://localhost:8080/"
        },
        "id": "5Dj3OWG86qfF",
        "outputId": "ae4c9b72-3e87-4f4a-90d0-8e411fd60cef"
      },
      "execution_count": null,
      "outputs": [
        {
          "output_type": "execute_result",
          "data": {
            "text/plain": [
              "array([ 1,  2,  3,  4,  5,  6,  7,  8,  9, 10, 11, 12, 13, 14, 15, 16, 17,\n",
              "       18, 19, 20, 21, 22, 23, 24])"
            ]
          },
          "metadata": {},
          "execution_count": 27
        }
      ]
    },
    {
      "cell_type": "code",
      "source": [
        "x = tf.constant(numpy_A)\n",
        "x\n",
        "\n",
        "# so when we pass a numpy array into tensor flow constant, it makes a tensor"
      ],
      "metadata": {
        "colab": {
          "base_uri": "https://localhost:8080/"
        },
        "id": "V27_YEHx7o-K",
        "outputId": "1c8ee43b-4478-4682-f37b-7d1cc0714ba2"
      },
      "execution_count": null,
      "outputs": [
        {
          "output_type": "execute_result",
          "data": {
            "text/plain": [
              "<tf.Tensor: shape=(24,), dtype=int64, numpy=\n",
              "array([ 1,  2,  3,  4,  5,  6,  7,  8,  9, 10, 11, 12, 13, 14, 15, 16, 17,\n",
              "       18, 19, 20, 21, 22, 23, 24])>"
            ]
          },
          "metadata": {},
          "execution_count": 28
        }
      ]
    },
    {
      "cell_type": "code",
      "source": [
        "# now lets try changing the shape of the numpy array when we change it to tensor\n",
        "\n",
        "x =tf.constant(numpy_A, shape =(2,3,4))\n",
        "x"
      ],
      "metadata": {
        "colab": {
          "base_uri": "https://localhost:8080/"
        },
        "id": "VGgfpQoq8_mT",
        "outputId": "7ae75930-05d8-48f8-c280-8aa3e54b3dbc"
      },
      "execution_count": null,
      "outputs": [
        {
          "output_type": "execute_result",
          "data": {
            "text/plain": [
              "<tf.Tensor: shape=(2, 3, 4), dtype=int64, numpy=\n",
              "array([[[ 1,  2,  3,  4],\n",
              "        [ 5,  6,  7,  8],\n",
              "        [ 9, 10, 11, 12]],\n",
              "\n",
              "       [[13, 14, 15, 16],\n",
              "        [17, 18, 19, 20],\n",
              "        [21, 22, 23, 24]]])>"
            ]
          },
          "metadata": {},
          "execution_count": 30
        }
      ]
    },
    {
      "cell_type": "code",
      "source": [
        "tf.constant(numpy_A, shape = (6,4))\n",
        "\n",
        "# number of elements in the"
      ],
      "metadata": {
        "colab": {
          "base_uri": "https://localhost:8080/"
        },
        "id": "Bl58AfMD94MF",
        "outputId": "92e64914-dcee-4664-8ed3-6919a645cce9"
      },
      "execution_count": null,
      "outputs": [
        {
          "output_type": "execute_result",
          "data": {
            "text/plain": [
              "<tf.Tensor: shape=(6, 4), dtype=int64, numpy=\n",
              "array([[ 1,  2,  3,  4],\n",
              "       [ 5,  6,  7,  8],\n",
              "       [ 9, 10, 11, 12],\n",
              "       [13, 14, 15, 16],\n",
              "       [17, 18, 19, 20],\n",
              "       [21, 22, 23, 24]])>"
            ]
          },
          "metadata": {},
          "execution_count": 32
        }
      ]
    },
    {
      "cell_type": "markdown",
      "source": [
        "the shape can be changed in a way that the total number of elements in the numpy array, and the shape of the tensor would be numbers that can be multiplied and the same number as total number of elements\n"
      ],
      "metadata": {
        "id": "PtOSS_sQDZU1"
      }
    },
    {
      "cell_type": "markdown",
      "source": [
        "## getting more info from tensors"
      ],
      "metadata": {
        "id": "J6aXXKJdEIBn"
      }
    },
    {
      "cell_type": "code",
      "source": [
        "# tensor attributes to be aware of : shape, rank, axis, size"
      ],
      "metadata": {
        "id": "Aw774tmyECv4"
      },
      "execution_count": null,
      "outputs": []
    },
    {
      "cell_type": "code",
      "source": [
        "# create a rank 4 tensor - 4 dimensions\n",
        "rank_tensor = tf.zeros(shape=[2,3,4,5])\n",
        "rank_tensor"
      ],
      "metadata": {
        "colab": {
          "base_uri": "https://localhost:8080/"
        },
        "id": "t-JLtoGJzs5W",
        "outputId": "a4218f0d-9244-462a-92f6-8dd88b37a8d8"
      },
      "execution_count": null,
      "outputs": [
        {
          "output_type": "execute_result",
          "data": {
            "text/plain": [
              "<tf.Tensor: shape=(2, 3, 4, 5), dtype=float32, numpy=\n",
              "array([[[[0., 0., 0., 0., 0.],\n",
              "         [0., 0., 0., 0., 0.],\n",
              "         [0., 0., 0., 0., 0.],\n",
              "         [0., 0., 0., 0., 0.]],\n",
              "\n",
              "        [[0., 0., 0., 0., 0.],\n",
              "         [0., 0., 0., 0., 0.],\n",
              "         [0., 0., 0., 0., 0.],\n",
              "         [0., 0., 0., 0., 0.]],\n",
              "\n",
              "        [[0., 0., 0., 0., 0.],\n",
              "         [0., 0., 0., 0., 0.],\n",
              "         [0., 0., 0., 0., 0.],\n",
              "         [0., 0., 0., 0., 0.]]],\n",
              "\n",
              "\n",
              "       [[[0., 0., 0., 0., 0.],\n",
              "         [0., 0., 0., 0., 0.],\n",
              "         [0., 0., 0., 0., 0.],\n",
              "         [0., 0., 0., 0., 0.]],\n",
              "\n",
              "        [[0., 0., 0., 0., 0.],\n",
              "         [0., 0., 0., 0., 0.],\n",
              "         [0., 0., 0., 0., 0.],\n",
              "         [0., 0., 0., 0., 0.]],\n",
              "\n",
              "        [[0., 0., 0., 0., 0.],\n",
              "         [0., 0., 0., 0., 0.],\n",
              "         [0., 0., 0., 0., 0.],\n",
              "         [0., 0., 0., 0., 0.]]]], dtype=float32)>"
            ]
          },
          "metadata": {},
          "execution_count": 4
        }
      ]
    },
    {
      "cell_type": "code",
      "source": [
        "rank_tensor.shape, rank_tensor.ndim, tf.size(rank_tensor)"
      ],
      "metadata": {
        "colab": {
          "base_uri": "https://localhost:8080/"
        },
        "id": "9za7r_aV3wpx",
        "outputId": "de7cb3eb-aa13-4c91-e962-6e7e9736833c"
      },
      "execution_count": null,
      "outputs": [
        {
          "output_type": "execute_result",
          "data": {
            "text/plain": [
              "(TensorShape([2, 3, 4, 5]), 4, <tf.Tensor: shape=(), dtype=int32, numpy=120>)"
            ]
          },
          "metadata": {},
          "execution_count": 8
        }
      ]
    },
    {
      "cell_type": "code",
      "source": [
        "import numpy as np"
      ],
      "metadata": {
        "id": "IfbOOiMzc4Qs"
      },
      "execution_count": null,
      "outputs": []
    },
    {
      "cell_type": "code",
      "source": [
        "print(\"Datatype of every element:\", rank_tensor.dtype)\n",
        "print(\"Number of dimensions\", rank_tensor.ndim)\n",
        "print(\"Shape of tensor:\", rank_tensor.shape)\n",
        "print(\"elements along 0 axis:\", rank_tensor.shape[0])\n",
        "print(\"Elements along last axis:\", rank_tensor.shape[-1])\n",
        "print(\"total number of elements in our tensor:\", tf.size(rank_tensor))\n",
        "print(\"total number of elements in our tensor:\", tf.size(rank_tensor).numpy())"
      ],
      "metadata": {
        "colab": {
          "base_uri": "https://localhost:8080/"
        },
        "id": "9Iod6v-pY_G-",
        "outputId": "203625b0-e6fe-46cb-8c06-d8529095cd72"
      },
      "execution_count": null,
      "outputs": [
        {
          "output_type": "stream",
          "name": "stdout",
          "text": [
            "Datatype of every element: <dtype: 'float32'>\n",
            "Number of dimensions 4\n",
            "Shape of tensor: (2, 3, 4, 5)\n",
            "elements along 0 axis: 2\n",
            "Elements along last axis: 5\n",
            "total number of elements in our tensor: tf.Tensor(120, shape=(), dtype=int32)\n",
            "total number of elements in our tensor: 120\n"
          ]
        }
      ]
    },
    {
      "cell_type": "markdown",
      "source": [
        "## indexing tensors"
      ],
      "metadata": {
        "id": "84Js1LxOdbFa"
      }
    },
    {
      "cell_type": "code",
      "source": [
        " rank_tensor[:2, :2, :2, :2]"
      ],
      "metadata": {
        "colab": {
          "base_uri": "https://localhost:8080/"
        },
        "id": "WT6TcTJAdeXR",
        "outputId": "72a66817-7f26-492a-ecf1-b941eb9600e9"
      },
      "execution_count": null,
      "outputs": [
        {
          "output_type": "execute_result",
          "data": {
            "text/plain": [
              "<tf.Tensor: shape=(2, 2, 2, 2), dtype=float32, numpy=\n",
              "array([[[[0., 0.],\n",
              "         [0., 0.]],\n",
              "\n",
              "        [[0., 0.],\n",
              "         [0., 0.]]],\n",
              "\n",
              "\n",
              "       [[[0., 0.],\n",
              "         [0., 0.]],\n",
              "\n",
              "        [[0., 0.],\n",
              "         [0., 0.]]]], dtype=float32)>"
            ]
          },
          "metadata": {},
          "execution_count": 16
        }
      ]
    },
    {
      "cell_type": "markdown",
      "source": [
        "## expanding existing tensors\n"
      ],
      "metadata": {
        "id": "yp-sGcnFpLY8"
      }
    },
    {
      "cell_type": "code",
      "source": [
        "rank_2_tensor = tf.constant([[1,2],\n",
        "                             [3,4]])\n",
        "rank_2_tensor.ndim,rank_2_tensor.shape"
      ],
      "metadata": {
        "colab": {
          "base_uri": "https://localhost:8080/"
        },
        "id": "v3mOmdR7pPgq",
        "outputId": "8efb2a0c-848a-4570-9413-9244c8c5f152"
      },
      "execution_count": null,
      "outputs": [
        {
          "output_type": "execute_result",
          "data": {
            "text/plain": [
              "(2, TensorShape([2, 2]))"
            ]
          },
          "metadata": {},
          "execution_count": 19
        }
      ]
    },
    {
      "cell_type": "markdown",
      "source": [
        " if i wanna get the last item of each row,\n"
      ],
      "metadata": {
        "id": "sw9W1P7-2dRa"
      }
    },
    {
      "cell_type": "code",
      "source": [
        "rank_2_tensor[:,-1]"
      ],
      "metadata": {
        "colab": {
          "base_uri": "https://localhost:8080/"
        },
        "id": "pxfsN6C92wNx",
        "outputId": "7c8d7d6a-ee8e-4cc5-da62-4ef0ef55fde4"
      },
      "execution_count": null,
      "outputs": [
        {
          "output_type": "execute_result",
          "data": {
            "text/plain": [
              "<tf.Tensor: shape=(2,), dtype=int32, numpy=array([2, 4], dtype=int32)>"
            ]
          },
          "metadata": {},
          "execution_count": 21
        }
      ]
    },
    {
      "cell_type": "markdown",
      "source": [
        "add in an extra dimension"
      ],
      "metadata": {
        "id": "nLUleoMi3AMl"
      }
    },
    {
      "cell_type": "code",
      "source": [
        "rank_3_tensor = rank_2_tensor[..., tf.newaxis]"
      ],
      "metadata": {
        "id": "mIQ28sa73CPK"
      },
      "execution_count": null,
      "outputs": []
    },
    {
      "cell_type": "code",
      "source": [
        "rank_3_tensor.shape"
      ],
      "metadata": {
        "colab": {
          "base_uri": "https://localhost:8080/"
        },
        "id": "dv8TFP-_3Cfs",
        "outputId": "c8a0c7fa-d8f5-4eaa-a36d-b882b8f29143"
      },
      "execution_count": null,
      "outputs": [
        {
          "output_type": "execute_result",
          "data": {
            "text/plain": [
              "TensorShape([2, 2, 1])"
            ]
          },
          "metadata": {},
          "execution_count": 23
        }
      ]
    }
  ]
}